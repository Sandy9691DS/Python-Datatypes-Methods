{
  "nbformat": 4,
  "nbformat_minor": 0,
  "metadata": {
    "colab": {
      "provenance": []
    },
    "kernelspec": {
      "name": "python3",
      "display_name": "Python 3"
    },
    "language_info": {
      "name": "python"
    }
  },
  "cells": [
    {
      "cell_type": "markdown",
      "source": [
        "# Here i'm presenting Python Data_Types and their properties & methods accordingly..\n",
        ">String\n",
        "\n",
        ">List\n",
        "\n",
        ">Set\n",
        "\n",
        ">Tuple\n",
        "\n",
        ">Dictionary\n",
        "\n",
        " `"
      ],
      "metadata": {
        "id": "8Fan1RESeQqM"
      }
    },
    {
      "cell_type": "code",
      "execution_count": null,
      "metadata": {
        "colab": {
          "base_uri": "https://localhost:8080/"
        },
        "id": "GpztOTFZ_1UB",
        "outputId": "84ab5919-84e2-4a45-a6d8-b9e205c3358a"
      },
      "outputs": [
        {
          "output_type": "stream",
          "name": "stdout",
          "text": [
            "['__add__', '__class__', '__contains__', '__delattr__', '__dir__', '__doc__', '__eq__', '__format__', '__ge__', '__getattribute__', '__getitem__', '__getnewargs__', '__gt__', '__hash__', '__init__', '__init_subclass__', '__iter__', '__le__', '__len__', '__lt__', '__mod__', '__mul__', '__ne__', '__new__', '__reduce__', '__reduce_ex__', '__repr__', '__rmod__', '__rmul__', '__setattr__', '__sizeof__', '__str__', '__subclasshook__', 'capitalize', 'casefold', 'center', 'count', 'encode', 'endswith', 'expandtabs', 'find', 'format', 'format_map', 'index', 'isalnum', 'isalpha', 'isascii', 'isdecimal', 'isdigit', 'isidentifier', 'islower', 'isnumeric', 'isprintable', 'isspace', 'istitle', 'isupper', 'join', 'ljust', 'lower', 'lstrip', 'maketrans', 'partition', 'removeprefix', 'removesuffix', 'replace', 'rfind', 'rindex', 'rjust', 'rpartition', 'rsplit', 'rstrip', 'split', 'splitlines', 'startswith', 'strip', 'swapcase', 'title', 'translate', 'upper', 'zfill']\n"
          ]
        }
      ],
      "source": [
        "print(dir(str))"
      ]
    },
    {
      "cell_type": "markdown",
      "source": [
        "## String is a sequence of characters defined using quotes. There are four different types of quotes available in Python for string representation. Since there is no separate character type in Python, any quotes can be used for any string object"
      ],
      "metadata": {
        "id": "uN9fn8Ckbhvy"
      }
    },
    {
      "cell_type": "markdown",
      "source": [
        "# Python String Properties\n",
        "> Syntax : ' ' , \" \"\n",
        "\n",
        ">String has a sequential index starting from 0 and -1\n",
        "\n",
        ">String is case-sensitive but not quotes sensitive.\n",
        "\n",
        ">String supports concatenation and repetition.\n",
        "\n",
        ">String is immutable and it cannot be changed."
      ],
      "metadata": {
        "id": "-rrDL4n-aCq5"
      }
    },
    {
      "cell_type": "markdown",
      "source": [
        "#String Methods :-\n",
        "\n",
        "# 'capitalize', 'casefold', 'center', 'count', 'encode', 'endswith', 'expandtabs', 'find', 'format', 'format_map', 'index', 'isalnum', 'isalpha', 'isascii', 'isdecimal', 'isdigit', 'isidentifier', 'islower', 'isnumeric', 'isprintable', 'isspace', 'istitle', 'isupper', 'join', 'ljust', 'lower', 'lstrip', 'maketrans', 'partition', 'removeprefix', 'removesuffix', 'replace', 'rfind', 'rindex', 'rjust', 'rpartition', 'rsplit', 'rstrip', 'split', 'splitlines', 'startswith', 'strip', 'swapcase', 'title', 'translate', 'upper', 'zfill'\n"
      ],
      "metadata": {
        "id": "ZVEATlrs-pNP"
      }
    },
    {
      "cell_type": "code",
      "source": [
        "s = 'Hello world'\n",
        "s"
      ],
      "metadata": {
        "colab": {
          "base_uri": "https://localhost:8080/",
          "height": 36
        },
        "id": "UPX8clqu_4Em",
        "outputId": "295fbd2e-7cb8-4254-d114-191b07829b87"
      },
      "execution_count": null,
      "outputs": [
        {
          "output_type": "execute_result",
          "data": {
            "text/plain": [
              "'Hello world'"
            ],
            "application/vnd.google.colaboratory.intrinsic+json": {
              "type": "string"
            }
          },
          "metadata": {},
          "execution_count": 2
        }
      ]
    },
    {
      "cell_type": "code",
      "source": [
        "s.capitalize()"
      ],
      "metadata": {
        "colab": {
          "base_uri": "https://localhost:8080/",
          "height": 36
        },
        "id": "94ZY1P5fABPk",
        "outputId": "309b5b0e-f612-4876-de42-e35dfdf97740"
      },
      "execution_count": null,
      "outputs": [
        {
          "output_type": "execute_result",
          "data": {
            "text/plain": [
              "'Hello world'"
            ],
            "application/vnd.google.colaboratory.intrinsic+json": {
              "type": "string"
            }
          },
          "metadata": {},
          "execution_count": 139
        }
      ]
    },
    {
      "cell_type": "code",
      "source": [
        "s.casefold()"
      ],
      "metadata": {
        "colab": {
          "base_uri": "https://localhost:8080/",
          "height": 36
        },
        "id": "kTbFlclgAIR_",
        "outputId": "58127827-fa4a-4617-81c2-f31bad1cbe63"
      },
      "execution_count": null,
      "outputs": [
        {
          "output_type": "execute_result",
          "data": {
            "text/plain": [
              "'hello world'"
            ],
            "application/vnd.google.colaboratory.intrinsic+json": {
              "type": "string"
            }
          },
          "metadata": {},
          "execution_count": 4
        }
      ]
    },
    {
      "cell_type": "code",
      "source": [
        "s.count('l')"
      ],
      "metadata": {
        "colab": {
          "base_uri": "https://localhost:8080/"
        },
        "id": "EhQ0wpyNARUm",
        "outputId": "ed086fae-e53b-424b-d4bd-180917b7d05d"
      },
      "execution_count": null,
      "outputs": [
        {
          "output_type": "execute_result",
          "data": {
            "text/plain": [
              "3"
            ]
          },
          "metadata": {},
          "execution_count": 5
        }
      ]
    },
    {
      "cell_type": "code",
      "source": [
        "s.endswith('e')"
      ],
      "metadata": {
        "colab": {
          "base_uri": "https://localhost:8080/"
        },
        "id": "pTWuWf3cAX3q",
        "outputId": "760b3adf-7dbc-4992-e5ff-40cbeccb67d4"
      },
      "execution_count": null,
      "outputs": [
        {
          "output_type": "execute_result",
          "data": {
            "text/plain": [
              "False"
            ]
          },
          "metadata": {},
          "execution_count": 6
        }
      ]
    },
    {
      "cell_type": "code",
      "source": [
        "s.endswith('d')"
      ],
      "metadata": {
        "colab": {
          "base_uri": "https://localhost:8080/"
        },
        "id": "fFTObSKAQMot",
        "outputId": "af384f94-447f-4270-fcbe-3d47f985aa51"
      },
      "execution_count": null,
      "outputs": [
        {
          "output_type": "execute_result",
          "data": {
            "text/plain": [
              "True"
            ]
          },
          "metadata": {},
          "execution_count": 7
        }
      ]
    },
    {
      "cell_type": "code",
      "source": [
        "s.find('o')"
      ],
      "metadata": {
        "id": "r02TD4SDQQPc",
        "colab": {
          "base_uri": "https://localhost:8080/"
        },
        "outputId": "b2197469-d145-457e-d311-452a261fa706"
      },
      "execution_count": null,
      "outputs": [
        {
          "output_type": "execute_result",
          "data": {
            "text/plain": [
              "4"
            ]
          },
          "metadata": {},
          "execution_count": 9
        }
      ]
    },
    {
      "cell_type": "code",
      "source": [
        "#Format\n",
        "name = 'Sandeep'\n",
        "age = 31\n",
        "\n",
        "formatted_str = 'My name is {} and I am {} years old'.format(name,age)\n",
        "print(formatted_str)"
      ],
      "metadata": {
        "colab": {
          "base_uri": "https://localhost:8080/"
        },
        "id": "llG6SZ-__C3D",
        "outputId": "9d8e5e40-70e6-4804-90cc-9a5da7c358db"
      },
      "execution_count": null,
      "outputs": [
        {
          "output_type": "stream",
          "name": "stdout",
          "text": [
            "My name is Sandeep and I am 31 years old\n"
          ]
        }
      ]
    },
    {
      "cell_type": "code",
      "source": [
        "s.index('w')"
      ],
      "metadata": {
        "colab": {
          "base_uri": "https://localhost:8080/"
        },
        "id": "fdMpfkdZ_YJG",
        "outputId": "982c760d-1e93-4a08-a535-bc79a58ba122"
      },
      "execution_count": null,
      "outputs": [
        {
          "output_type": "execute_result",
          "data": {
            "text/plain": [
              "6"
            ]
          },
          "metadata": {},
          "execution_count": 12
        }
      ]
    },
    {
      "cell_type": "code",
      "source": [
        "s.isalnum()"
      ],
      "metadata": {
        "colab": {
          "base_uri": "https://localhost:8080/"
        },
        "id": "9nrMVOJA_aEv",
        "outputId": "dd994d40-a54d-4ca7-d4e0-e63c081a17ef"
      },
      "execution_count": null,
      "outputs": [
        {
          "output_type": "execute_result",
          "data": {
            "text/plain": [
              "False"
            ]
          },
          "metadata": {},
          "execution_count": 13
        }
      ]
    },
    {
      "cell_type": "code",
      "source": [
        "s.isalpha()"
      ],
      "metadata": {
        "colab": {
          "base_uri": "https://localhost:8080/"
        },
        "id": "Jqj6kOtF_d8r",
        "outputId": "4f6e3da1-ac9a-4a07-ef7f-50761f68f93f"
      },
      "execution_count": null,
      "outputs": [
        {
          "output_type": "execute_result",
          "data": {
            "text/plain": [
              "False"
            ]
          },
          "metadata": {},
          "execution_count": 14
        }
      ]
    },
    {
      "cell_type": "code",
      "source": [
        "s.isascii()"
      ],
      "metadata": {
        "colab": {
          "base_uri": "https://localhost:8080/"
        },
        "id": "m4XHhKlZ_gca",
        "outputId": "36b7967c-583b-4ba0-d246-186f56791e5b"
      },
      "execution_count": null,
      "outputs": [
        {
          "output_type": "execute_result",
          "data": {
            "text/plain": [
              "True"
            ]
          },
          "metadata": {},
          "execution_count": 15
        }
      ]
    },
    {
      "cell_type": "code",
      "source": [
        "s.isdecimal()"
      ],
      "metadata": {
        "colab": {
          "base_uri": "https://localhost:8080/"
        },
        "id": "VmTLym3F_jii",
        "outputId": "c3bf5e13-760a-41c7-85b7-cf38854c4e31"
      },
      "execution_count": null,
      "outputs": [
        {
          "output_type": "execute_result",
          "data": {
            "text/plain": [
              "False"
            ]
          },
          "metadata": {},
          "execution_count": 16
        }
      ]
    },
    {
      "cell_type": "code",
      "source": [
        "s.isdigit()"
      ],
      "metadata": {
        "colab": {
          "base_uri": "https://localhost:8080/"
        },
        "id": "BnjAd_iQ_ldb",
        "outputId": "ae8a5d99-d179-490a-972a-a7863552fc6d"
      },
      "execution_count": null,
      "outputs": [
        {
          "output_type": "execute_result",
          "data": {
            "text/plain": [
              "False"
            ]
          },
          "metadata": {},
          "execution_count": 17
        }
      ]
    },
    {
      "cell_type": "code",
      "source": [
        "s.isidentifier()"
      ],
      "metadata": {
        "colab": {
          "base_uri": "https://localhost:8080/"
        },
        "id": "6DDOgE30_m4G",
        "outputId": "de8dc2cf-221d-49bd-a74d-e7cabeb3b15c"
      },
      "execution_count": null,
      "outputs": [
        {
          "output_type": "execute_result",
          "data": {
            "text/plain": [
              "False"
            ]
          },
          "metadata": {},
          "execution_count": 18
        }
      ]
    },
    {
      "cell_type": "code",
      "source": [
        "s.islower()"
      ],
      "metadata": {
        "colab": {
          "base_uri": "https://localhost:8080/"
        },
        "id": "8fWFB_sJ_osM",
        "outputId": "7c567b38-32c4-4282-92a4-ca31939ab718"
      },
      "execution_count": null,
      "outputs": [
        {
          "output_type": "execute_result",
          "data": {
            "text/plain": [
              "False"
            ]
          },
          "metadata": {},
          "execution_count": 19
        }
      ]
    },
    {
      "cell_type": "code",
      "source": [
        "s.isnumeric()"
      ],
      "metadata": {
        "colab": {
          "base_uri": "https://localhost:8080/"
        },
        "id": "ep6DQdiN_qvI",
        "outputId": "883c3483-5673-4ed5-d609-4596a756f683"
      },
      "execution_count": null,
      "outputs": [
        {
          "output_type": "execute_result",
          "data": {
            "text/plain": [
              "False"
            ]
          },
          "metadata": {},
          "execution_count": 20
        }
      ]
    },
    {
      "cell_type": "code",
      "source": [
        "s.isprintable()"
      ],
      "metadata": {
        "colab": {
          "base_uri": "https://localhost:8080/"
        },
        "id": "whG5slsg_sn0",
        "outputId": "98b1c5b0-87a6-423f-dce0-df1fab0ae0d0"
      },
      "execution_count": null,
      "outputs": [
        {
          "output_type": "execute_result",
          "data": {
            "text/plain": [
              "True"
            ]
          },
          "metadata": {},
          "execution_count": 21
        }
      ]
    },
    {
      "cell_type": "code",
      "source": [
        "s.isspace()"
      ],
      "metadata": {
        "colab": {
          "base_uri": "https://localhost:8080/"
        },
        "id": "aOFhlnbk_uKC",
        "outputId": "b3096a1c-83bf-418c-fcd8-a45e9995a001"
      },
      "execution_count": null,
      "outputs": [
        {
          "output_type": "execute_result",
          "data": {
            "text/plain": [
              "False"
            ]
          },
          "metadata": {},
          "execution_count": 22
        }
      ]
    },
    {
      "cell_type": "code",
      "source": [
        "s.isupper()"
      ],
      "metadata": {
        "colab": {
          "base_uri": "https://localhost:8080/"
        },
        "id": "h1DD-nHB_vf0",
        "outputId": "130ba0e1-26c6-44b5-f3eb-04c1ded716f0"
      },
      "execution_count": null,
      "outputs": [
        {
          "output_type": "execute_result",
          "data": {
            "text/plain": [
              "False"
            ]
          },
          "metadata": {},
          "execution_count": 23
        }
      ]
    },
    {
      "cell_type": "code",
      "source": [
        "s.istitle()"
      ],
      "metadata": {
        "colab": {
          "base_uri": "https://localhost:8080/"
        },
        "id": "5GKXqMCv_xA6",
        "outputId": "3f28f185-8dbc-4dca-9e6e-10e36bcb007f"
      },
      "execution_count": null,
      "outputs": [
        {
          "output_type": "execute_result",
          "data": {
            "text/plain": [
              "False"
            ]
          },
          "metadata": {},
          "execution_count": 24
        }
      ]
    },
    {
      "cell_type": "code",
      "source": [
        "print(' '.join(s))"
      ],
      "metadata": {
        "colab": {
          "base_uri": "https://localhost:8080/"
        },
        "id": "xwIDCpVy_ynk",
        "outputId": "5ea98450-7dcf-43ca-b368-e6e9eaff5132"
      },
      "execution_count": null,
      "outputs": [
        {
          "output_type": "stream",
          "name": "stdout",
          "text": [
            "H e l l o   w o r l d\n"
          ]
        }
      ]
    },
    {
      "cell_type": "code",
      "source": [
        "s1 = 'Hello'\n",
        "len(s1)\n",
        "r = s1.ljust(8,'*')\n",
        "r"
      ],
      "metadata": {
        "colab": {
          "base_uri": "https://localhost:8080/",
          "height": 36
        },
        "id": "HKXmePwzADZv",
        "outputId": "a20239a9-5ce9-44cd-a6ca-3e5d93698a0d"
      },
      "execution_count": null,
      "outputs": [
        {
          "output_type": "execute_result",
          "data": {
            "text/plain": [
              "'Hello***'"
            ],
            "application/vnd.google.colaboratory.intrinsic+json": {
              "type": "string"
            }
          },
          "metadata": {},
          "execution_count": 39
        }
      ]
    },
    {
      "cell_type": "code",
      "source": [
        "s.lower()"
      ],
      "metadata": {
        "colab": {
          "base_uri": "https://localhost:8080/",
          "height": 36
        },
        "id": "e6Xh1IynAx2b",
        "outputId": "cbc9b18a-f92e-4b15-8b52-094b913ee1ae"
      },
      "execution_count": null,
      "outputs": [
        {
          "output_type": "execute_result",
          "data": {
            "text/plain": [
              "'hello world'"
            ],
            "application/vnd.google.colaboratory.intrinsic+json": {
              "type": "string"
            }
          },
          "metadata": {},
          "execution_count": 40
        }
      ]
    },
    {
      "cell_type": "code",
      "source": [
        "s2 = '  Hello'\n",
        "s3 = s2.lstrip()\n",
        "s3"
      ],
      "metadata": {
        "colab": {
          "base_uri": "https://localhost:8080/",
          "height": 36
        },
        "id": "tS0-qs7nB6yn",
        "outputId": "f47e633a-12d0-4520-811c-68901ecffe36"
      },
      "execution_count": null,
      "outputs": [
        {
          "output_type": "execute_result",
          "data": {
            "text/plain": [
              "'Hello'"
            ],
            "application/vnd.google.colaboratory.intrinsic+json": {
              "type": "string"
            }
          },
          "metadata": {},
          "execution_count": 42
        }
      ]
    },
    {
      "cell_type": "code",
      "source": [
        "s.partition('llo')"
      ],
      "metadata": {
        "colab": {
          "base_uri": "https://localhost:8080/"
        },
        "id": "ckqPhY3iB-TG",
        "outputId": "28aa7821-d6a5-4644-a42c-82f30f0f9479"
      },
      "execution_count": null,
      "outputs": [
        {
          "output_type": "execute_result",
          "data": {
            "text/plain": [
              "('He', 'llo', ' world')"
            ]
          },
          "metadata": {},
          "execution_count": 43
        }
      ]
    },
    {
      "cell_type": "code",
      "source": [
        "s.removeprefix('He')"
      ],
      "metadata": {
        "colab": {
          "base_uri": "https://localhost:8080/",
          "height": 36
        },
        "id": "6_lfLWfWCPUN",
        "outputId": "fe5c3863-09b7-42fd-e575-e443b4928f01"
      },
      "execution_count": null,
      "outputs": [
        {
          "output_type": "execute_result",
          "data": {
            "text/plain": [
              "'llo world'"
            ],
            "application/vnd.google.colaboratory.intrinsic+json": {
              "type": "string"
            }
          },
          "metadata": {},
          "execution_count": 48
        }
      ]
    },
    {
      "cell_type": "code",
      "source": [
        "s.removesuffix('ld')"
      ],
      "metadata": {
        "colab": {
          "base_uri": "https://localhost:8080/",
          "height": 36
        },
        "id": "nFmv-bBWCTvJ",
        "outputId": "c6e06c54-ca26-4bb7-d1e1-5b1dd162eb5a"
      },
      "execution_count": null,
      "outputs": [
        {
          "output_type": "execute_result",
          "data": {
            "text/plain": [
              "'Hello wor'"
            ],
            "application/vnd.google.colaboratory.intrinsic+json": {
              "type": "string"
            }
          },
          "metadata": {},
          "execution_count": 50
        }
      ]
    },
    {
      "cell_type": "code",
      "source": [
        "s.replace('Hello','Hi')"
      ],
      "metadata": {
        "colab": {
          "base_uri": "https://localhost:8080/",
          "height": 36
        },
        "id": "m33MhNdICunY",
        "outputId": "a4ed0f9e-b55d-4b04-f65a-a35b9537ffbb"
      },
      "execution_count": null,
      "outputs": [
        {
          "output_type": "execute_result",
          "data": {
            "text/plain": [
              "'Hi world'"
            ],
            "application/vnd.google.colaboratory.intrinsic+json": {
              "type": "string"
            }
          },
          "metadata": {},
          "execution_count": 51
        }
      ]
    },
    {
      "cell_type": "code",
      "source": [
        "s.rfind('l')"
      ],
      "metadata": {
        "colab": {
          "base_uri": "https://localhost:8080/"
        },
        "id": "5wM-uKGqC1FB",
        "outputId": "1ed15c38-7e61-45a4-9388-2341117574ac"
      },
      "execution_count": null,
      "outputs": [
        {
          "output_type": "execute_result",
          "data": {
            "text/plain": [
              "9"
            ]
          },
          "metadata": {},
          "execution_count": 52
        }
      ]
    },
    {
      "cell_type": "code",
      "source": [
        "s.rindex('l')"
      ],
      "metadata": {
        "colab": {
          "base_uri": "https://localhost:8080/"
        },
        "id": "yJJIqyTLC8Xm",
        "outputId": "c29e9565-b4f0-410c-aa3a-f0971a82fa2e"
      },
      "execution_count": null,
      "outputs": [
        {
          "output_type": "execute_result",
          "data": {
            "text/plain": [
              "9"
            ]
          },
          "metadata": {},
          "execution_count": 53
        }
      ]
    },
    {
      "cell_type": "code",
      "source": [
        "s1 = 'Hello'\n",
        "len(s1)\n",
        "r = s1.rjust(8,'*')\n",
        "r"
      ],
      "metadata": {
        "colab": {
          "base_uri": "https://localhost:8080/",
          "height": 36
        },
        "id": "Ecv6VspvDCpl",
        "outputId": "96b04b7b-7b6e-447e-f380-50977368dcc6"
      },
      "execution_count": null,
      "outputs": [
        {
          "output_type": "execute_result",
          "data": {
            "text/plain": [
              "'***Hello'"
            ],
            "application/vnd.google.colaboratory.intrinsic+json": {
              "type": "string"
            }
          },
          "metadata": {},
          "execution_count": 55
        }
      ]
    },
    {
      "cell_type": "code",
      "source": [
        "s.rpartition('He')"
      ],
      "metadata": {
        "colab": {
          "base_uri": "https://localhost:8080/"
        },
        "id": "K6zg7f59DRZ8",
        "outputId": "3507bb3f-531b-4d5e-b0f7-67cd651f0511"
      },
      "execution_count": null,
      "outputs": [
        {
          "output_type": "execute_result",
          "data": {
            "text/plain": [
              "('', 'He', 'llo world')"
            ]
          },
          "metadata": {},
          "execution_count": 57
        }
      ]
    },
    {
      "cell_type": "code",
      "source": [
        "s4 = 'I love India'\n",
        "s4.rsplit()"
      ],
      "metadata": {
        "colab": {
          "base_uri": "https://localhost:8080/"
        },
        "id": "8s4SSFFaDTHN",
        "outputId": "fae2213c-4e47-4ceb-d9f1-af9956548a91"
      },
      "execution_count": null,
      "outputs": [
        {
          "output_type": "execute_result",
          "data": {
            "text/plain": [
              "['I', 'love', 'India']"
            ]
          },
          "metadata": {},
          "execution_count": 58
        }
      ]
    },
    {
      "cell_type": "code",
      "source": [
        "s2 = '  Hello  '\n",
        "s3 = s2.rstrip()\n",
        "s3"
      ],
      "metadata": {
        "colab": {
          "base_uri": "https://localhost:8080/",
          "height": 36
        },
        "id": "jf-BwUztDlRm",
        "outputId": "6478cbac-d35b-4aa5-e9d8-984e691c3845"
      },
      "execution_count": null,
      "outputs": [
        {
          "output_type": "execute_result",
          "data": {
            "text/plain": [
              "'  Hello'"
            ],
            "application/vnd.google.colaboratory.intrinsic+json": {
              "type": "string"
            }
          },
          "metadata": {},
          "execution_count": 60
        }
      ]
    },
    {
      "cell_type": "code",
      "source": [
        "st = 'Sandeep Patil'\n",
        "st.split()"
      ],
      "metadata": {
        "colab": {
          "base_uri": "https://localhost:8080/"
        },
        "id": "qTEZnlaaDxsE",
        "outputId": "2e399529-ca6b-4576-9397-8bade7b07ed6"
      },
      "execution_count": null,
      "outputs": [
        {
          "output_type": "execute_result",
          "data": {
            "text/plain": [
              "['Sandeep', 'Patil']"
            ]
          },
          "metadata": {},
          "execution_count": 61
        }
      ]
    },
    {
      "cell_type": "code",
      "source": [
        "text = 'hi\\n how\\n are\\n you'\n",
        "\n",
        "text.splitlines()"
      ],
      "metadata": {
        "colab": {
          "base_uri": "https://localhost:8080/"
        },
        "id": "rahGBHroD2H8",
        "outputId": "3ba038e3-346e-4ff1-b926-020b22e57f2f"
      },
      "execution_count": null,
      "outputs": [
        {
          "output_type": "execute_result",
          "data": {
            "text/plain": [
              "['hi', ' how', ' are', ' you']"
            ]
          },
          "metadata": {},
          "execution_count": 63
        }
      ]
    },
    {
      "cell_type": "code",
      "source": [
        "s.startswith('h')"
      ],
      "metadata": {
        "colab": {
          "base_uri": "https://localhost:8080/"
        },
        "id": "yPhFZPoXEM6U",
        "outputId": "de87c179-d783-46af-d29a-f207cc49eb0c"
      },
      "execution_count": null,
      "outputs": [
        {
          "output_type": "execute_result",
          "data": {
            "text/plain": [
              "False"
            ]
          },
          "metadata": {},
          "execution_count": 64
        }
      ]
    },
    {
      "cell_type": "code",
      "source": [
        "s.startswith('H')"
      ],
      "metadata": {
        "colab": {
          "base_uri": "https://localhost:8080/"
        },
        "id": "eNEmLn_xEg__",
        "outputId": "58a4c95d-8613-474c-d441-923dafd98a6a"
      },
      "execution_count": null,
      "outputs": [
        {
          "output_type": "execute_result",
          "data": {
            "text/plain": [
              "True"
            ]
          },
          "metadata": {},
          "execution_count": 65
        }
      ]
    },
    {
      "cell_type": "code",
      "source": [
        "s.endswith('D')"
      ],
      "metadata": {
        "colab": {
          "base_uri": "https://localhost:8080/"
        },
        "id": "c0OvlJvjEiIo",
        "outputId": "dadc0116-5dce-4dbe-9187-00a5e0e8f7fd"
      },
      "execution_count": null,
      "outputs": [
        {
          "output_type": "execute_result",
          "data": {
            "text/plain": [
              "False"
            ]
          },
          "metadata": {},
          "execution_count": 66
        }
      ]
    },
    {
      "cell_type": "code",
      "source": [
        "s.endswith('d')"
      ],
      "metadata": {
        "colab": {
          "base_uri": "https://localhost:8080/"
        },
        "id": "1DTy9H3bEk3X",
        "outputId": "8944454d-3f54-4032-d93b-d29e136fc85f"
      },
      "execution_count": null,
      "outputs": [
        {
          "output_type": "execute_result",
          "data": {
            "text/plain": [
              "True"
            ]
          },
          "metadata": {},
          "execution_count": 67
        }
      ]
    },
    {
      "cell_type": "code",
      "source": [
        "s5 = '   Hi How '\n",
        "s5.strip()"
      ],
      "metadata": {
        "colab": {
          "base_uri": "https://localhost:8080/",
          "height": 36
        },
        "id": "vqUFgglaEmXx",
        "outputId": "a5906cb6-4c76-4e2f-becc-b476dfc40d8c"
      },
      "execution_count": null,
      "outputs": [
        {
          "output_type": "execute_result",
          "data": {
            "text/plain": [
              "'Hi How'"
            ],
            "application/vnd.google.colaboratory.intrinsic+json": {
              "type": "string"
            }
          },
          "metadata": {},
          "execution_count": 72
        }
      ]
    },
    {
      "cell_type": "code",
      "source": [
        "s.swapcase()"
      ],
      "metadata": {
        "colab": {
          "base_uri": "https://localhost:8080/",
          "height": 36
        },
        "id": "KTyBQnJ3EtZR",
        "outputId": "13047437-9343-401c-f4dd-2c0421c6003d"
      },
      "execution_count": null,
      "outputs": [
        {
          "output_type": "execute_result",
          "data": {
            "text/plain": [
              "'hELLO WORLD'"
            ],
            "application/vnd.google.colaboratory.intrinsic+json": {
              "type": "string"
            }
          },
          "metadata": {},
          "execution_count": 73
        }
      ]
    },
    {
      "cell_type": "code",
      "source": [
        "s.title()"
      ],
      "metadata": {
        "colab": {
          "base_uri": "https://localhost:8080/",
          "height": 36
        },
        "id": "16N_lOFqE36L",
        "outputId": "0d3491fe-34a1-459d-8ec2-4f83dde4f894"
      },
      "execution_count": null,
      "outputs": [
        {
          "output_type": "execute_result",
          "data": {
            "text/plain": [
              "'Hello World'"
            ],
            "application/vnd.google.colaboratory.intrinsic+json": {
              "type": "string"
            }
          },
          "metadata": {},
          "execution_count": 74
        }
      ]
    },
    {
      "cell_type": "code",
      "source": [
        "s.upper()"
      ],
      "metadata": {
        "colab": {
          "base_uri": "https://localhost:8080/",
          "height": 36
        },
        "id": "4IKCYed7E6uE",
        "outputId": "2369461e-2f36-4576-ed1a-c691e0caefe4"
      },
      "execution_count": null,
      "outputs": [
        {
          "output_type": "execute_result",
          "data": {
            "text/plain": [
              "'HELLO WORLD'"
            ],
            "application/vnd.google.colaboratory.intrinsic+json": {
              "type": "string"
            }
          },
          "metadata": {},
          "execution_count": 75
        }
      ]
    },
    {
      "cell_type": "code",
      "source": [
        "s.lower()"
      ],
      "metadata": {
        "colab": {
          "base_uri": "https://localhost:8080/",
          "height": 36
        },
        "id": "uEBsXwpxE7uH",
        "outputId": "5ba36882-28f6-4c85-dae6-a351015a2939"
      },
      "execution_count": null,
      "outputs": [
        {
          "output_type": "execute_result",
          "data": {
            "text/plain": [
              "'hello world'"
            ],
            "application/vnd.google.colaboratory.intrinsic+json": {
              "type": "string"
            }
          },
          "metadata": {},
          "execution_count": 76
        }
      ]
    },
    {
      "cell_type": "code",
      "source": [
        "#Maketrans & Translate\n",
        "text = 'Hello World'\n",
        "translation_table = str.maketrans('He','BO')\n",
        "translated_text = text.translate(translation_table)\n",
        "print(translated_text)\n"
      ],
      "metadata": {
        "colab": {
          "base_uri": "https://localhost:8080/"
        },
        "id": "DK6VpvbeE9XX",
        "outputId": "3cf50765-9ac6-455c-da71-35ab658aff97"
      },
      "execution_count": null,
      "outputs": [
        {
          "output_type": "stream",
          "name": "stdout",
          "text": [
            "BOllo World\n"
          ]
        }
      ]
    },
    {
      "cell_type": "code",
      "source": [
        "n = '45'\n",
        "res = n.zfill(5)\n",
        "res"
      ],
      "metadata": {
        "colab": {
          "base_uri": "https://localhost:8080/",
          "height": 36
        },
        "id": "Mvmu_aUeGFUx",
        "outputId": "4b7b5a0b-0dbe-4c6e-ab47-58f71bd00160"
      },
      "execution_count": null,
      "outputs": [
        {
          "output_type": "execute_result",
          "data": {
            "text/plain": [
              "'00045'"
            ],
            "application/vnd.google.colaboratory.intrinsic+json": {
              "type": "string"
            }
          },
          "metadata": {},
          "execution_count": 88
        }
      ]
    },
    {
      "cell_type": "code",
      "source": [
        "print(dir(list))"
      ],
      "metadata": {
        "colab": {
          "base_uri": "https://localhost:8080/"
        },
        "id": "oVnbXHRbHpwA",
        "outputId": "53d21582-e9da-4bb0-efea-b605ff38379f"
      },
      "execution_count": null,
      "outputs": [
        {
          "output_type": "stream",
          "name": "stdout",
          "text": [
            "['__add__', '__class__', '__class_getitem__', '__contains__', '__delattr__', '__delitem__', '__dir__', '__doc__', '__eq__', '__format__', '__ge__', '__getattribute__', '__getitem__', '__gt__', '__hash__', '__iadd__', '__imul__', '__init__', '__init_subclass__', '__iter__', '__le__', '__len__', '__lt__', '__mul__', '__ne__', '__new__', '__reduce__', '__reduce_ex__', '__repr__', '__reversed__', '__rmul__', '__setattr__', '__setitem__', '__sizeof__', '__str__', '__subclasshook__', 'append', 'clear', 'copy', 'count', 'extend', 'index', 'insert', 'pop', 'remove', 'reverse', 'sort']\n"
          ]
        }
      ]
    },
    {
      "cell_type": "markdown",
      "source": [
        "## List is a collection type in Python. It can contain any python object with sequential indexes and without worrying about duplicates."
      ],
      "metadata": {
        "id": "66K6IN5TeG0P"
      }
    },
    {
      "cell_type": "markdown",
      "source": [
        "# Python List Properties\n",
        ">Syntax : X = [ ] , Y = list ()\n",
        "\n",
        ">List is a sequential collection.\n",
        "\n",
        ">List may have duplicate values.\n",
        "\n",
        ">List is mutable."
      ],
      "metadata": {
        "id": "crv_51gbabBd"
      }
    },
    {
      "cell_type": "markdown",
      "source": [
        "#List Methods\n",
        "\n",
        "#'append', 'clear', 'copy', 'count', 'extend', 'index', 'insert', 'pop', 'remove', 'reverse', 'sort'"
      ],
      "metadata": {
        "id": "HWEOBaEdH9Ku"
      }
    },
    {
      "cell_type": "code",
      "source": [
        "#Append adds element in the list\n",
        "list1 = [1,2,3]\n",
        "list1.append('a')\n",
        "print(list1)"
      ],
      "metadata": {
        "colab": {
          "base_uri": "https://localhost:8080/"
        },
        "id": "tUACaPkmH3xB",
        "outputId": "b124d25f-b6de-4db5-9b1f-c05550de6c04"
      },
      "execution_count": null,
      "outputs": [
        {
          "output_type": "stream",
          "name": "stdout",
          "text": [
            "[1, 2, 3, 'a']\n"
          ]
        }
      ]
    },
    {
      "cell_type": "code",
      "source": [
        "#Clear remove all elements\n",
        "list2 = [1,2,'a','b']\n",
        "list2.clear()\n",
        "print(list2)"
      ],
      "metadata": {
        "colab": {
          "base_uri": "https://localhost:8080/"
        },
        "id": "o_MEYimsIHDN",
        "outputId": "e2e2df98-e00a-4b22-f080-8d13573eebba"
      },
      "execution_count": null,
      "outputs": [
        {
          "output_type": "stream",
          "name": "stdout",
          "text": [
            "[]\n"
          ]
        }
      ]
    },
    {
      "cell_type": "code",
      "source": [
        "#Copy provide shallow copy of actual list\n",
        "list1 = [1,2,3,4,'A',4]\n",
        "copy1 = list1.copy()\n",
        "print(copy1)"
      ],
      "metadata": {
        "colab": {
          "base_uri": "https://localhost:8080/"
        },
        "id": "2v0gbi7LIuNR",
        "outputId": "5679050b-56da-4f77-d57e-9069d9ed4d0e"
      },
      "execution_count": null,
      "outputs": [
        {
          "output_type": "stream",
          "name": "stdout",
          "text": [
            "[1, 2, 3, 4, 'A', 4]\n"
          ]
        }
      ]
    },
    {
      "cell_type": "code",
      "source": [
        "#Count returns number of occrances of given element\n",
        "list1 = [1,2,3,4,'A',4]\n",
        "list1.count(4)"
      ],
      "metadata": {
        "colab": {
          "base_uri": "https://localhost:8080/"
        },
        "id": "j8t-t_UsJUZ0",
        "outputId": "a5be6090-b219-4643-da25-ea0fa2e654ab"
      },
      "execution_count": null,
      "outputs": [
        {
          "output_type": "execute_result",
          "data": {
            "text/plain": [
              "2"
            ]
          },
          "metadata": {},
          "execution_count": 128
        }
      ]
    },
    {
      "cell_type": "code",
      "source": [
        "#Extend extends list by appending element\n",
        "list11 = [1,2,3,4]\n",
        "list11.extend([7,8])\n",
        "print(list11)"
      ],
      "metadata": {
        "colab": {
          "base_uri": "https://localhost:8080/"
        },
        "id": "ZuQQvRC4JyG1",
        "outputId": "1260a029-d39f-4f18-c82a-e81952ebed65"
      },
      "execution_count": null,
      "outputs": [
        {
          "output_type": "stream",
          "name": "stdout",
          "text": [
            "[1, 2, 3, 4, 7, 8]\n"
          ]
        }
      ]
    },
    {
      "cell_type": "code",
      "source": [
        "#Index provide index of given\n",
        "list21 = [1,2,3,'A','B']\n",
        "index_of_A = list21.index('A')\n",
        "index_of_A"
      ],
      "metadata": {
        "colab": {
          "base_uri": "https://localhost:8080/"
        },
        "id": "Rd-E5pNmKW0M",
        "outputId": "116f3a30-599a-4851-dbac-61de4d76facd"
      },
      "execution_count": null,
      "outputs": [
        {
          "output_type": "execute_result",
          "data": {
            "text/plain": [
              "3"
            ]
          },
          "metadata": {},
          "execution_count": 120
        }
      ]
    },
    {
      "cell_type": "code",
      "source": [
        "#Insert  provide index,number to insert\n",
        "ls2 = [1,2,3]\n",
        "ls2.insert(0,5)\n",
        "print(ls2)"
      ],
      "metadata": {
        "colab": {
          "base_uri": "https://localhost:8080/"
        },
        "id": "-e3LktRRK5Up",
        "outputId": "e0d88b18-33af-4e32-f914-d7b8b46459bf"
      },
      "execution_count": null,
      "outputs": [
        {
          "output_type": "stream",
          "name": "stdout",
          "text": [
            "[5, 1, 2, 3]\n"
          ]
        }
      ]
    },
    {
      "cell_type": "code",
      "source": [
        "#Remove first occurance of the number will be removed\n",
        "ls3 = [1,2,3,2]\n",
        "ls3.remove(2)\n",
        "ls3"
      ],
      "metadata": {
        "colab": {
          "base_uri": "https://localhost:8080/"
        },
        "id": "KNGwH7BDLIDz",
        "outputId": "4a9e8b36-1023-4747-e668-c9d142176f34"
      },
      "execution_count": null,
      "outputs": [
        {
          "output_type": "execute_result",
          "data": {
            "text/plain": [
              "[1, 3, 2]"
            ]
          },
          "metadata": {},
          "execution_count": 124
        }
      ]
    },
    {
      "cell_type": "code",
      "source": [
        "#Pop provide index to remove\n",
        "list4 = [1,2,3,4,5,6]\n",
        "list4.pop(1)\n",
        "list4"
      ],
      "metadata": {
        "colab": {
          "base_uri": "https://localhost:8080/"
        },
        "id": "Jdo8NZyKLY0T",
        "outputId": "59d0527c-60c1-46bd-8c6a-7310cf3f2169"
      },
      "execution_count": null,
      "outputs": [
        {
          "output_type": "execute_result",
          "data": {
            "text/plain": [
              "[1, 3, 4, 5, 6]"
            ]
          },
          "metadata": {},
          "execution_count": 126
        }
      ]
    },
    {
      "cell_type": "code",
      "source": [
        "#Pop bydefault last index will be removed\n",
        "list4 = [1,2,3,4,5,6]\n",
        "list4.pop()\n",
        "list4"
      ],
      "metadata": {
        "colab": {
          "base_uri": "https://localhost:8080/"
        },
        "id": "T_lT5BayLlff",
        "outputId": "4f942cb6-efa5-4715-c710-997b24b496b2"
      },
      "execution_count": null,
      "outputs": [
        {
          "output_type": "execute_result",
          "data": {
            "text/plain": [
              "[1, 2, 3, 4, 5]"
            ]
          },
          "metadata": {},
          "execution_count": 127
        }
      ]
    },
    {
      "cell_type": "code",
      "source": [
        "#Reverse element order will be reversed\n",
        "\n",
        "list12 = [1,2,3]\n",
        "list12.reverse()\n",
        "list12"
      ],
      "metadata": {
        "colab": {
          "base_uri": "https://localhost:8080/"
        },
        "id": "6w24DyYRLt6w",
        "outputId": "aa63219b-f4bf-4f75-8d8d-890089b92c98"
      },
      "execution_count": null,
      "outputs": [
        {
          "output_type": "execute_result",
          "data": {
            "text/plain": [
              "[3, 2, 1]"
            ]
          },
          "metadata": {},
          "execution_count": 129
        }
      ]
    },
    {
      "cell_type": "code",
      "source": [
        "#Sort proived key,reverse to sort the given list\n",
        "\n",
        "list6 = [1,2,43,5,10,33,76,21,34]\n",
        "list6.sort() #Ascending order\n",
        "list6"
      ],
      "metadata": {
        "colab": {
          "base_uri": "https://localhost:8080/"
        },
        "id": "-yzAWXngMrwR",
        "outputId": "9ad0998c-d432-4ce8-9c72-d70c113268e5"
      },
      "execution_count": null,
      "outputs": [
        {
          "output_type": "execute_result",
          "data": {
            "text/plain": [
              "[1, 2, 5, 10, 21, 33, 34, 43, 76]"
            ]
          },
          "metadata": {},
          "execution_count": 135
        }
      ]
    },
    {
      "cell_type": "code",
      "source": [
        "list6 = [1,2,43,5,10,33,76,21,34]\n",
        "list6.sort(reverse=True) #Descending order\n",
        "list6"
      ],
      "metadata": {
        "colab": {
          "base_uri": "https://localhost:8080/"
        },
        "id": "94JVyGNhM8dK",
        "outputId": "6a8bd5eb-c906-4901-e046-c6edda3daf0e"
      },
      "execution_count": null,
      "outputs": [
        {
          "output_type": "execute_result",
          "data": {
            "text/plain": [
              "[76, 43, 34, 33, 21, 10, 5, 2, 1]"
            ]
          },
          "metadata": {},
          "execution_count": 133
        }
      ]
    },
    {
      "cell_type": "code",
      "source": [
        "print(dir(set))"
      ],
      "metadata": {
        "id": "YMHcotNrNC8Q",
        "colab": {
          "base_uri": "https://localhost:8080/"
        },
        "outputId": "b806c350-d5ce-402d-8510-b6260bc69cce"
      },
      "execution_count": 2,
      "outputs": [
        {
          "output_type": "stream",
          "name": "stdout",
          "text": [
            "['__and__', '__class__', '__class_getitem__', '__contains__', '__delattr__', '__dir__', '__doc__', '__eq__', '__format__', '__ge__', '__getattribute__', '__gt__', '__hash__', '__iand__', '__init__', '__init_subclass__', '__ior__', '__isub__', '__iter__', '__ixor__', '__le__', '__len__', '__lt__', '__ne__', '__new__', '__or__', '__rand__', '__reduce__', '__reduce_ex__', '__repr__', '__ror__', '__rsub__', '__rxor__', '__setattr__', '__sizeof__', '__str__', '__sub__', '__subclasshook__', '__xor__', 'add', 'clear', 'copy', 'difference', 'difference_update', 'discard', 'intersection', 'intersection_update', 'isdisjoint', 'issubset', 'issuperset', 'pop', 'remove', 'symmetric_difference', 'symmetric_difference_update', 'union', 'update']\n"
          ]
        }
      ]
    },
    {
      "cell_type": "markdown",
      "source": [
        "## Set is a mutable and unique collection in Python. It can contain only immutable objects like numbers, strings, and tuples."
      ],
      "metadata": {
        "id": "iBdAci7gbS-T"
      }
    },
    {
      "cell_type": "markdown",
      "source": [
        "# Python Set Properties\n",
        ">Syntax : s = set()\n",
        "\n",
        ">Set is a unique collection like dictionary keys.\n",
        "\n",
        ">Set does not has sequential indexes.\n",
        "\n",
        ">Set is mutable like list and dictionary.\n",
        "\n",
        ">Set can consist of only immutable objects like dictionary keys.\n"
      ],
      "metadata": {
        "id": "wJ_2JVGCbUq2"
      }
    },
    {
      "cell_type": "markdown",
      "source": [
        "#Set Methods\n",
        "\n",
        "#'add', 'clear', 'copy', 'difference', 'difference_update', 'discard', 'intersection', 'intersection_update', 'isdisjoint', 'issubset', 'issuperset', 'pop', 'remove', 'symmetric_difference', 'symmetric_difference_update', 'union', 'update'\n"
      ],
      "metadata": {
        "id": "E4hNP7VKJufc"
      }
    },
    {
      "cell_type": "code",
      "source": [
        "#Add\n",
        "set1 = {1,2,4}\n",
        "set1.add(3)\n",
        "set1\n"
      ],
      "metadata": {
        "colab": {
          "base_uri": "https://localhost:8080/"
        },
        "id": "MiY6ynkSJcZm",
        "outputId": "e6514a86-d667-48e9-c6ae-345bd569e018"
      },
      "execution_count": 4,
      "outputs": [
        {
          "output_type": "execute_result",
          "data": {
            "text/plain": [
              "{1, 2, 3, 4}"
            ]
          },
          "metadata": {},
          "execution_count": 4
        }
      ]
    },
    {
      "cell_type": "code",
      "source": [
        "#Clear\n",
        "set1.clear()\n",
        "set1"
      ],
      "metadata": {
        "colab": {
          "base_uri": "https://localhost:8080/"
        },
        "id": "FnatuPVjKbJS",
        "outputId": "7d4b1fa0-7f2f-4e1c-a78e-68936a73cd98"
      },
      "execution_count": 5,
      "outputs": [
        {
          "output_type": "execute_result",
          "data": {
            "text/plain": [
              "set()"
            ]
          },
          "metadata": {},
          "execution_count": 5
        }
      ]
    },
    {
      "cell_type": "code",
      "source": [
        "#Copy\n",
        "set2 = {1,2,3,4}\n",
        "copy1 = set2.copy()\n",
        "copy1"
      ],
      "metadata": {
        "colab": {
          "base_uri": "https://localhost:8080/"
        },
        "id": "6E0RlEVdKg-d",
        "outputId": "402cc4d9-ec68-410b-c85d-f4a2b61aca41"
      },
      "execution_count": 6,
      "outputs": [
        {
          "output_type": "execute_result",
          "data": {
            "text/plain": [
              "{1, 2, 3, 4}"
            ]
          },
          "metadata": {},
          "execution_count": 6
        }
      ]
    },
    {
      "cell_type": "code",
      "source": [
        "#Difference\n",
        "set1 = {1,2,3,4}\n",
        "set2 = {3,4,5,6}\n",
        "\n",
        "difference = set1.difference(set2)\n",
        "print(difference)\n",
        "\n",
        "difference2 = set2.difference(set1)\n",
        "print(difference2)"
      ],
      "metadata": {
        "colab": {
          "base_uri": "https://localhost:8080/"
        },
        "id": "NJfHbaGqK1FS",
        "outputId": "8dad05ae-5731-4998-8911-5bbbb3940761"
      },
      "execution_count": 10,
      "outputs": [
        {
          "output_type": "stream",
          "name": "stdout",
          "text": [
            "{1, 2}\n",
            "{5, 6}\n"
          ]
        }
      ]
    },
    {
      "cell_type": "code",
      "source": [
        "#Difference_update - modifies inplace.\n",
        "set1 = {1,2,3,4}\n",
        "set3 = {3,4,5,6}\n",
        "\n",
        "set1.difference_update(set3)\n",
        "print(set1)\n",
        "\n",
        "set3.difference_update(set1)\n",
        "print(set3)"
      ],
      "metadata": {
        "colab": {
          "base_uri": "https://localhost:8080/"
        },
        "id": "HK5xu-xILFCB",
        "outputId": "1238bb86-c5a0-48ab-962f-ab42c4559602"
      },
      "execution_count": 13,
      "outputs": [
        {
          "output_type": "stream",
          "name": "stdout",
          "text": [
            "{1, 2}\n",
            "{3, 4, 5, 6}\n"
          ]
        }
      ]
    },
    {
      "cell_type": "code",
      "source": [
        "#Discard\n",
        "\n",
        "set2 = {1,2,3,4}\n",
        "set2.discard(4)\n",
        "set2"
      ],
      "metadata": {
        "colab": {
          "base_uri": "https://localhost:8080/"
        },
        "id": "08nvR3_ILxTD",
        "outputId": "34286457-c9ee-41f5-87b2-6cf64c3d0793"
      },
      "execution_count": 18,
      "outputs": [
        {
          "output_type": "execute_result",
          "data": {
            "text/plain": [
              "{1, 2, 3}"
            ]
          },
          "metadata": {},
          "execution_count": 18
        }
      ]
    },
    {
      "cell_type": "code",
      "source": [
        "#Intersection\n",
        "\n",
        "set1 = {1, 2, 3, 4}\n",
        "set2 = {3, 4, 5, 6}\n",
        "\n",
        "intersection_set = set1.intersection(set2)\n",
        "print(intersection_set)"
      ],
      "metadata": {
        "colab": {
          "base_uri": "https://localhost:8080/"
        },
        "id": "IJ2Psh5HMLck",
        "outputId": "e05d6971-b2f9-4146-a5c7-4f0d47afc8c2"
      },
      "execution_count": 19,
      "outputs": [
        {
          "output_type": "stream",
          "name": "stdout",
          "text": [
            "{3, 4}\n"
          ]
        }
      ]
    },
    {
      "cell_type": "code",
      "source": [
        "#Intersection_update - modifies set in place.\n",
        "\n",
        "set1 = {1, 2, 3, 4}\n",
        "set2 = {3, 4, 5, 6}\n",
        "\n",
        "set1.intersection_update(set2)\n",
        "set1\n"
      ],
      "metadata": {
        "colab": {
          "base_uri": "https://localhost:8080/"
        },
        "id": "Hm-5TxUvMmhI",
        "outputId": "753dc9f7-a8d6-4efe-947b-53196ee88422"
      },
      "execution_count": 20,
      "outputs": [
        {
          "output_type": "execute_result",
          "data": {
            "text/plain": [
              "{3, 4}"
            ]
          },
          "metadata": {},
          "execution_count": 20
        }
      ]
    },
    {
      "cell_type": "code",
      "source": [
        "#isdisjoint\n",
        "#Common elements = False\n",
        "#Unique elements = True\n",
        "\n",
        "set1 = {1,2,3}\n",
        "set2 = {3,4,5}\n",
        "\n",
        "res = set1.isdisjoint(set2)\n",
        "print(res)\n",
        "\n",
        "set3 = {1,2,3}\n",
        "set4 = {4,5,6}\n",
        "\n",
        "res1 = set3.isdisjoint(set4)\n",
        "print(res1)"
      ],
      "metadata": {
        "colab": {
          "base_uri": "https://localhost:8080/"
        },
        "id": "3aUOo-gtM3gN",
        "outputId": "774db245-6552-4f67-b431-567078143c50"
      },
      "execution_count": 26,
      "outputs": [
        {
          "output_type": "stream",
          "name": "stdout",
          "text": [
            "False\n",
            "True\n"
          ]
        }
      ]
    },
    {
      "cell_type": "code",
      "source": [
        "#issubset - returns True if all elements of set5 is present in set6, else False.\n",
        "\n",
        "set5 = {1,2,3}\n",
        "set6 = {1,2,3,4,5}\n",
        "\n",
        "sub = set5.issubset(set6)\n",
        "sub"
      ],
      "metadata": {
        "colab": {
          "base_uri": "https://localhost:8080/"
        },
        "id": "zTDXpPZFND7t",
        "outputId": "61789c8e-ccd5-4750-bb5a-8c366cbd6c26"
      },
      "execution_count": 29,
      "outputs": [
        {
          "output_type": "execute_result",
          "data": {
            "text/plain": [
              "True"
            ]
          },
          "metadata": {},
          "execution_count": 29
        }
      ]
    },
    {
      "cell_type": "code",
      "source": [
        "#issuperset - returns True if all elements of set6 is present in set5, else False.\n",
        "set5 = {1,2,3,4,5}\n",
        "set6 = {1,2}\n",
        "\n",
        "super = set5.issuperset(set6)\n",
        "super"
      ],
      "metadata": {
        "colab": {
          "base_uri": "https://localhost:8080/"
        },
        "id": "0G9Di62CNFaA",
        "outputId": "ca888c4e-dc49-4ea9-daab-8910d2228ab9"
      },
      "execution_count": 32,
      "outputs": [
        {
          "output_type": "execute_result",
          "data": {
            "text/plain": [
              "True"
            ]
          },
          "metadata": {},
          "execution_count": 32
        }
      ]
    },
    {
      "cell_type": "code",
      "source": [
        "#Pop - removes and return arbitary element, as set is unorederd no guarantee that which element will be removed\n",
        "\n",
        "set1 = {2,3,4,5}\n",
        "set1.pop()"
      ],
      "metadata": {
        "colab": {
          "base_uri": "https://localhost:8080/"
        },
        "id": "0EZr3E9rNKkk",
        "outputId": "93f621e4-a5e1-40dd-abbb-15dbfea3d38c"
      },
      "execution_count": 43,
      "outputs": [
        {
          "output_type": "execute_result",
          "data": {
            "text/plain": [
              "2"
            ]
          },
          "metadata": {},
          "execution_count": 43
        }
      ]
    },
    {
      "cell_type": "code",
      "source": [
        "#Remove\n",
        "\n",
        "set1 = {1,2,3,4}\n",
        "set1.remove(4)\n",
        "set1"
      ],
      "metadata": {
        "colab": {
          "base_uri": "https://localhost:8080/"
        },
        "id": "fwBN4PFaPItV",
        "outputId": "8651bf05-ce63-4977-f6c6-90698e117a61"
      },
      "execution_count": 38,
      "outputs": [
        {
          "output_type": "execute_result",
          "data": {
            "text/plain": [
              "{1, 2, 3}"
            ]
          },
          "metadata": {},
          "execution_count": 38
        }
      ]
    },
    {
      "cell_type": "code",
      "source": [
        "#Symmetric_difference - returns unique element from each set\n",
        "\n",
        "set1 = {1, 2, 3, 4, 5}\n",
        "set2 = {3, 4, 5, 6, 7}\n",
        "\n",
        "symmetric_difference_set = set1.symmetric_difference(set2)\n",
        "print(symmetric_difference_set)\n"
      ],
      "metadata": {
        "colab": {
          "base_uri": "https://localhost:8080/"
        },
        "id": "MfjJwxtfPdNf",
        "outputId": "0004256d-48a7-4eb8-96f0-437a296c6f4d"
      },
      "execution_count": 52,
      "outputs": [
        {
          "output_type": "stream",
          "name": "stdout",
          "text": [
            "{1, 2, 6, 7}\n"
          ]
        }
      ]
    },
    {
      "cell_type": "code",
      "source": [
        "#Symmetric_difference_update - updates set1 inplace.\n",
        "\n",
        "set1 = {1, 2, 3, 4, 5}\n",
        "set2 = {3, 4, 5, 6, 7}\n",
        "\n",
        "set1.symmetric_difference_update(set2)\n",
        "print(set1)"
      ],
      "metadata": {
        "colab": {
          "base_uri": "https://localhost:8080/"
        },
        "id": "7dUHlNy3QGLm",
        "outputId": "881a350a-8fb1-4e5c-8813-9217d84eb685"
      },
      "execution_count": 50,
      "outputs": [
        {
          "output_type": "stream",
          "name": "stdout",
          "text": [
            "{1, 2, 6, 7}\n"
          ]
        }
      ]
    },
    {
      "cell_type": "code",
      "source": [
        "#Union - returns unique elements from both sets\n",
        "\n",
        "set1 = {1, 2, 3, 10}\n",
        "set2 = {3, 4, 5, 15}\n",
        "\n",
        "un = set1.union(set2)\n",
        "un"
      ],
      "metadata": {
        "colab": {
          "base_uri": "https://localhost:8080/"
        },
        "id": "5ltB-HRTQIig",
        "outputId": "4c198e95-6bfe-4a38-bfa4-e747554a98a7"
      },
      "execution_count": 54,
      "outputs": [
        {
          "output_type": "execute_result",
          "data": {
            "text/plain": [
              "{1, 2, 3, 4, 5, 10, 15}"
            ]
          },
          "metadata": {},
          "execution_count": 54
        }
      ]
    },
    {
      "cell_type": "code",
      "source": [
        "#Update - update set3 inplace.\n",
        "\n",
        "set3 = {1,2,4}\n",
        "set4 = {3,5,6}\n",
        "\n",
        "set3.update(set4)\n",
        "set3"
      ],
      "metadata": {
        "colab": {
          "base_uri": "https://localhost:8080/"
        },
        "id": "Iv792hDxQLB3",
        "outputId": "6f76fce1-70e8-4a1c-dff6-79cdba4c1770"
      },
      "execution_count": 56,
      "outputs": [
        {
          "output_type": "execute_result",
          "data": {
            "text/plain": [
              "{1, 2, 3, 4, 5, 6}"
            ]
          },
          "metadata": {},
          "execution_count": 56
        }
      ]
    },
    {
      "cell_type": "code",
      "source": [
        "print(dir(tuple))"
      ],
      "metadata": {
        "colab": {
          "base_uri": "https://localhost:8080/"
        },
        "id": "-DPOSYtARkpc",
        "outputId": "8926f21e-0927-45a6-f94b-baf313a6a2f7"
      },
      "execution_count": 57,
      "outputs": [
        {
          "output_type": "stream",
          "name": "stdout",
          "text": [
            "['__add__', '__class__', '__class_getitem__', '__contains__', '__delattr__', '__dir__', '__doc__', '__eq__', '__format__', '__ge__', '__getattribute__', '__getitem__', '__getnewargs__', '__gt__', '__hash__', '__init__', '__init_subclass__', '__iter__', '__le__', '__len__', '__lt__', '__mul__', '__ne__', '__new__', '__reduce__', '__reduce_ex__', '__repr__', '__rmul__', '__setattr__', '__sizeof__', '__str__', '__subclasshook__', 'count', 'index']\n"
          ]
        }
      ]
    },
    {
      "cell_type": "markdown",
      "source": [
        "## Tuple is a read-only or immutable collection type in Python. It can contain any python object with sequential indexes and without worrying about duplicates. It is denoted by (values, ...)"
      ],
      "metadata": {
        "id": "KAvppjAybASL"
      }
    },
    {
      "cell_type": "markdown",
      "source": [
        "# Python Tuple Properties\n",
        ">Syntax : t1 = () , t2 = tuple ()\n",
        "\n",
        ">Tuple is a sequential collection.\n",
        "\n",
        ">Tuple may have duplicate values.\n",
        "\n",
        ">Tuple is an immutable or read-only list."
      ],
      "metadata": {
        "id": "UzjhuUCebEkl"
      }
    },
    {
      "cell_type": "markdown",
      "source": [
        "#Tuple Methods\n",
        "#'count', 'index'"
      ],
      "metadata": {
        "id": "2asnGDf5Rxqh"
      }
    },
    {
      "cell_type": "code",
      "source": [
        "#Count - returns no of occurances of gievn value\n",
        "\n",
        "tuple1 = (1,2,1,2,3,4,5,2)\n",
        "count_2 = tuple1.count(2)\n",
        "count_2"
      ],
      "metadata": {
        "colab": {
          "base_uri": "https://localhost:8080/"
        },
        "id": "_xCDe_rWRt2x",
        "outputId": "ce4652d2-004b-4c52-fc03-84b966c576b8"
      },
      "execution_count": 61,
      "outputs": [
        {
          "output_type": "execute_result",
          "data": {
            "text/plain": [
              "3"
            ]
          },
          "metadata": {},
          "execution_count": 61
        }
      ]
    },
    {
      "cell_type": "code",
      "source": [
        "#Index - retuns index of given element\n",
        "\n",
        "tuple2 = (1,2,3,4,5,2)\n",
        "Index_2 = tuple2.index(2)\n",
        "Index_2"
      ],
      "metadata": {
        "colab": {
          "base_uri": "https://localhost:8080/"
        },
        "id": "rT_kisTiSHKg",
        "outputId": "f077c59c-69eb-4f9d-ff54-b50d160e59ca"
      },
      "execution_count": 64,
      "outputs": [
        {
          "output_type": "execute_result",
          "data": {
            "text/plain": [
              "1"
            ]
          },
          "metadata": {},
          "execution_count": 64
        }
      ]
    },
    {
      "cell_type": "code",
      "source": [
        "print(dir(dict))"
      ],
      "metadata": {
        "colab": {
          "base_uri": "https://localhost:8080/"
        },
        "id": "CnZEz3zkSVbk",
        "outputId": "0c58f59c-7740-45b8-aa6d-79a889ebcd8b"
      },
      "execution_count": 65,
      "outputs": [
        {
          "output_type": "stream",
          "name": "stdout",
          "text": [
            "['__class__', '__class_getitem__', '__contains__', '__delattr__', '__delitem__', '__dir__', '__doc__', '__eq__', '__format__', '__ge__', '__getattribute__', '__getitem__', '__gt__', '__hash__', '__init__', '__init_subclass__', '__ior__', '__iter__', '__le__', '__len__', '__lt__', '__ne__', '__new__', '__or__', '__reduce__', '__reduce_ex__', '__repr__', '__reversed__', '__ror__', '__setattr__', '__setitem__', '__sizeof__', '__str__', '__subclasshook__', 'clear', 'copy', 'fromkeys', 'get', 'items', 'keys', 'pop', 'popitem', 'setdefault', 'update', 'values']\n"
          ]
        }
      ]
    },
    {
      "cell_type": "markdown",
      "source": [
        "## Dictionary is a key: value pair collection in Python. It can contain immutable values like numbers, strings, and tuples as the key. Values can be any data type in Python including another dictionary."
      ],
      "metadata": {
        "id": "-8Fc3tvrcrXi"
      }
    },
    {
      "cell_type": "markdown",
      "source": [
        "# Python Dictionary Properties\n",
        "\n",
        ">Syntax : { }\n",
        "\n",
        ">Keys are unique and immutable.\n",
        "\n",
        ">Values can be duplicate and of any data type.\n",
        "\n",
        ">Dictionary is mutable."
      ],
      "metadata": {
        "id": "gOG6fQoEcrKd"
      }
    },
    {
      "cell_type": "markdown",
      "source": [
        "#Dictionary Methods -\n",
        "\n",
        "#'clear', 'copy', 'fromkeys', 'get', 'items', 'keys', 'pop', 'popitem', 'setdefault', 'update', 'values'"
      ],
      "metadata": {
        "id": "PPAFZym8TfLQ"
      }
    },
    {
      "cell_type": "code",
      "source": [
        "#Clear\n",
        "\n",
        "my_dict = {'a': 1, 'b': 2, 'c': 3}\n",
        "my_dict.clear()\n",
        "print(my_dict)"
      ],
      "metadata": {
        "colab": {
          "base_uri": "https://localhost:8080/"
        },
        "id": "vrQaXawvTZKM",
        "outputId": "629ab5b0-87bd-4098-8aeb-ed169a3f7ef0"
      },
      "execution_count": 76,
      "outputs": [
        {
          "output_type": "stream",
          "name": "stdout",
          "text": [
            "{}\n"
          ]
        }
      ]
    },
    {
      "cell_type": "code",
      "source": [
        "#Copy - returns shallow copy\n",
        "\n",
        "my_dict = {'a': 1, 'b': 2, 'c': 3}\n",
        "copy1 = my_dict.copy()\n",
        "print(copy1)"
      ],
      "metadata": {
        "colab": {
          "base_uri": "https://localhost:8080/"
        },
        "id": "dAfkhqFPTkjR",
        "outputId": "1b15a439-f092-4c62-9c91-342aee112da0"
      },
      "execution_count": 77,
      "outputs": [
        {
          "output_type": "stream",
          "name": "stdout",
          "text": [
            "{'a': 1, 'b': 2, 'c': 3}\n"
          ]
        }
      ]
    },
    {
      "cell_type": "code",
      "source": [
        "#Fromkeys - it creats new dict with specified keys and default values\n",
        "\n",
        "keys = ['name','age','sex']\n",
        "value = 'unknown'\n",
        "\n",
        "dict1 = dict.fromkeys(keys,value)\n",
        "dict1"
      ],
      "metadata": {
        "colab": {
          "base_uri": "https://localhost:8080/"
        },
        "id": "8l4PznoaToTE",
        "outputId": "2193cf4f-a662-44a6-9a7e-aad880f9fd36"
      },
      "execution_count": 97,
      "outputs": [
        {
          "output_type": "execute_result",
          "data": {
            "text/plain": [
              "{'name': 'unknown', 'age': 'unknown', 'sex': 'unknown'}"
            ]
          },
          "metadata": {},
          "execution_count": 97
        }
      ]
    },
    {
      "cell_type": "code",
      "source": [
        "#Get - Returns the value for the specified key else None.\n",
        "\n",
        "my_dict = {'a': 1, 'b': 2, 'c': 3}\n",
        "value = my_dict.get('b')\n",
        "value"
      ],
      "metadata": {
        "colab": {
          "base_uri": "https://localhost:8080/"
        },
        "id": "WVyNXjPFTrjq",
        "outputId": "e1072cfe-3fe2-4446-e81b-f5cfff25c411"
      },
      "execution_count": 78,
      "outputs": [
        {
          "output_type": "execute_result",
          "data": {
            "text/plain": [
              "2"
            ]
          },
          "metadata": {},
          "execution_count": 78
        }
      ]
    },
    {
      "cell_type": "code",
      "source": [
        "#Items - returns dictionary items, key:value pair\n",
        "\n",
        "my_dict = {'a': 1, 'b': 2, 'c': 3}\n",
        "items = my_dict.items()\n",
        "items"
      ],
      "metadata": {
        "colab": {
          "base_uri": "https://localhost:8080/"
        },
        "id": "eRZa304RTtMB",
        "outputId": "934dc61b-e0c5-4c8a-cd7c-6b9b7869cca4"
      },
      "execution_count": 80,
      "outputs": [
        {
          "output_type": "execute_result",
          "data": {
            "text/plain": [
              "dict_items([('a', 1), ('b', 2), ('c', 3)])"
            ]
          },
          "metadata": {},
          "execution_count": 80
        }
      ]
    },
    {
      "cell_type": "code",
      "source": [
        "#Keys - return keys\n",
        "\n",
        "my_dict = {'a': 1, 'b': 2, 'c': 3}\n",
        "keys = my_dict.keys()\n",
        "keys"
      ],
      "metadata": {
        "colab": {
          "base_uri": "https://localhost:8080/"
        },
        "id": "BdotL68KTxIU",
        "outputId": "f329feda-363f-4092-f1a3-3d6ac45dbaf6"
      },
      "execution_count": 82,
      "outputs": [
        {
          "output_type": "execute_result",
          "data": {
            "text/plain": [
              "dict_keys(['a', 'b', 'c'])"
            ]
          },
          "metadata": {},
          "execution_count": 82
        }
      ]
    },
    {
      "cell_type": "code",
      "source": [
        "#Values - returns value\n",
        "\n",
        "my_dict = {'a': 1, 'b': 2, 'c': 3}\n",
        "values = my_dict.values()\n",
        "values"
      ],
      "metadata": {
        "colab": {
          "base_uri": "https://localhost:8080/"
        },
        "id": "_ox61zy-ViWG",
        "outputId": "a8f61427-982e-403f-a60e-23d76e3cd1e8"
      },
      "execution_count": 84,
      "outputs": [
        {
          "output_type": "execute_result",
          "data": {
            "text/plain": [
              "dict_values([1, 2, 3])"
            ]
          },
          "metadata": {},
          "execution_count": 84
        }
      ]
    },
    {
      "cell_type": "code",
      "source": [
        "#Pop - Removes the item with the specified key(b) and returns its value(2). Raises a KeyError if the key is not found.\n",
        "\n",
        "my_dict = {'a': 1, 'b': 2, 'c': 3}\n",
        "value = my_dict.pop('b')\n",
        "value\n"
      ],
      "metadata": {
        "colab": {
          "base_uri": "https://localhost:8080/"
        },
        "id": "qdCdDdXIT1dA",
        "outputId": "e78eb6d3-7119-49e2-f0c7-ec16383c7f41"
      },
      "execution_count": 86,
      "outputs": [
        {
          "output_type": "execute_result",
          "data": {
            "text/plain": [
              "2"
            ]
          },
          "metadata": {},
          "execution_count": 86
        }
      ]
    },
    {
      "cell_type": "code",
      "source": [
        "#Popitem - Removes and returns the last inserted key-value pair as a tuple  .. item(key:value)\n",
        "\n",
        "my_dict = {'a': 1, 'b': 2, 'c': 3}\n",
        "items = my_dict.popitem()\n",
        "items"
      ],
      "metadata": {
        "colab": {
          "base_uri": "https://localhost:8080/"
        },
        "id": "7wKWZP84T2_a",
        "outputId": "df7a6eaa-6747-4457-f8e9-6d52bf0c5d41"
      },
      "execution_count": 88,
      "outputs": [
        {
          "output_type": "execute_result",
          "data": {
            "text/plain": [
              "('c', 3)"
            ]
          },
          "metadata": {},
          "execution_count": 88
        }
      ]
    },
    {
      "cell_type": "code",
      "source": [
        "#Set default - Returns the value for the specified key. If the key is not found, inserts the key with a specified value (default is None).\n",
        "\n",
        "my_dict = {'a': 1, 'b': 2}\n",
        "value = my_dict.setdefault('c', 3)\n",
        "\n",
        "print(value)\n",
        "print(my_dict)\n"
      ],
      "metadata": {
        "colab": {
          "base_uri": "https://localhost:8080/"
        },
        "id": "2niYNGa4T4cM",
        "outputId": "49f4bd0d-7f1f-4a82-e51e-0a423fd240b2"
      },
      "execution_count": 91,
      "outputs": [
        {
          "output_type": "stream",
          "name": "stdout",
          "text": [
            "3\n",
            "{'a': 1, 'b': 2, 'c': 3}\n"
          ]
        }
      ]
    },
    {
      "cell_type": "code",
      "source": [
        "#Update - Updates the dictionary with elements from another dictionary or iterable.\n",
        "\n",
        "dict1 = {'a': 1, 'b': 2}\n",
        "dict2 = {'b': 3, 'c': 4}\n",
        "\n",
        "dict1.update(dict2)\n",
        "print(dict1)"
      ],
      "metadata": {
        "colab": {
          "base_uri": "https://localhost:8080/"
        },
        "id": "Xrznr5btT5_l",
        "outputId": "eaff4de1-17e8-43e3-c50a-3f9f2d174031"
      },
      "execution_count": 92,
      "outputs": [
        {
          "output_type": "stream",
          "name": "stdout",
          "text": [
            "{'a': 1, 'b': 3, 'c': 4}\n"
          ]
        }
      ]
    },
    {
      "cell_type": "code",
      "source": [],
      "metadata": {
        "id": "l_D3Hri3T7ZA"
      },
      "execution_count": null,
      "outputs": []
    }
  ]
}